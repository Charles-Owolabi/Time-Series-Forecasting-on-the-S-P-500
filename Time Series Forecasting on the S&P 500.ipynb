{
 "cells": [
  {
   "cell_type": "markdown",
   "id": "4c607d40-16fd-40a3-b9ae-174812af2e99",
   "metadata": {},
   "source": [
    "# Time-Series Forecasting on the S&P 500"
   ]
  },
  {
   "cell_type": "markdown",
   "id": "0d642a85-a64d-4aaa-8425-06c3c1a07a3f",
   "metadata": {},
   "source": [
    "## Overview\n",
    "You are working as traders on the S&P 500 futures desk. You have been tasked with building a model to better forecast how this index will move based on its behavior over the past several years. The better our forecast performs, the more effectively and lucratively our desk will be able to trade these futures. The dataset we will be working with is from  [Yahoo Finance via Kaggle](https://www.kaggle.com/datasets/arashnic/time-series-forecasting-with-yahoo-stock-price), and it contains S&P 500 Index prices from 2015 through 2020.\n",
    "\n",
    "Before we get into the data, let's set some random seed values to improve the reproducibility of the models we will build later on."
   ]
  },
  {
   "cell_type": "code",
   "execution_count": 5,
   "id": "760caa17-4d45-47d7-b506-6631af6b566d",
   "metadata": {},
   "outputs": [],
   "source": [
    "# Imports\n",
    "import tensorflow as tf\n",
    "import numpy as np\n",
    "import random\n",
    "\n",
    "# Seed code\n",
    "np.random.seed(1)\n",
    "random.seed(1)\n",
    "tf.random.set_seed(1)"
   ]
  },
  {
   "cell_type": "markdown",
   "id": "d8058f9c-0afd-4d40-b2d2-295610a8f5a7",
   "metadata": {},
   "source": [
    "## 2. Data Wrangling and Exploration\n",
    "The required data is loaded"
   ]
  },
  {
   "cell_type": "code",
   "execution_count": 8,
   "id": "1b1770ba-40b0-49a6-a426-ffe82275b7a9",
   "metadata": {},
   "outputs": [
    {
     "data": {
      "text/html": [
       "<div>\n",
       "<style scoped>\n",
       "    .dataframe tbody tr th:only-of-type {\n",
       "        vertical-align: middle;\n",
       "    }\n",
       "\n",
       "    .dataframe tbody tr th {\n",
       "        vertical-align: top;\n",
       "    }\n",
       "\n",
       "    .dataframe thead th {\n",
       "        text-align: right;\n",
       "    }\n",
       "</style>\n",
       "<table border=\"1\" class=\"dataframe\">\n",
       "  <thead>\n",
       "    <tr style=\"text-align: right;\">\n",
       "      <th></th>\n",
       "      <th>Date</th>\n",
       "      <th>High</th>\n",
       "      <th>Low</th>\n",
       "      <th>Open</th>\n",
       "      <th>Close</th>\n",
       "      <th>Volume</th>\n",
       "      <th>Adj Close</th>\n",
       "    </tr>\n",
       "  </thead>\n",
       "  <tbody>\n",
       "    <tr>\n",
       "      <th>0</th>\n",
       "      <td>2015-11-23</td>\n",
       "      <td>2095.610107</td>\n",
       "      <td>2081.389893</td>\n",
       "      <td>2089.409912</td>\n",
       "      <td>2086.590088</td>\n",
       "      <td>3.587980e+09</td>\n",
       "      <td>2086.590088</td>\n",
       "    </tr>\n",
       "    <tr>\n",
       "      <th>1</th>\n",
       "      <td>2015-11-24</td>\n",
       "      <td>2094.120117</td>\n",
       "      <td>2070.290039</td>\n",
       "      <td>2084.419922</td>\n",
       "      <td>2089.139893</td>\n",
       "      <td>3.884930e+09</td>\n",
       "      <td>2089.139893</td>\n",
       "    </tr>\n",
       "    <tr>\n",
       "      <th>2</th>\n",
       "      <td>2015-11-25</td>\n",
       "      <td>2093.000000</td>\n",
       "      <td>2086.300049</td>\n",
       "      <td>2089.300049</td>\n",
       "      <td>2088.870117</td>\n",
       "      <td>2.852940e+09</td>\n",
       "      <td>2088.870117</td>\n",
       "    </tr>\n",
       "    <tr>\n",
       "      <th>3</th>\n",
       "      <td>2015-11-26</td>\n",
       "      <td>2093.000000</td>\n",
       "      <td>2086.300049</td>\n",
       "      <td>2089.300049</td>\n",
       "      <td>2088.870117</td>\n",
       "      <td>2.852940e+09</td>\n",
       "      <td>2088.870117</td>\n",
       "    </tr>\n",
       "    <tr>\n",
       "      <th>4</th>\n",
       "      <td>2015-11-27</td>\n",
       "      <td>2093.290039</td>\n",
       "      <td>2084.129883</td>\n",
       "      <td>2088.820068</td>\n",
       "      <td>2090.110107</td>\n",
       "      <td>1.466840e+09</td>\n",
       "      <td>2090.110107</td>\n",
       "    </tr>\n",
       "  </tbody>\n",
       "</table>\n",
       "</div>"
      ],
      "text/plain": [
       "         Date         High          Low         Open        Close  \\\n",
       "0  2015-11-23  2095.610107  2081.389893  2089.409912  2086.590088   \n",
       "1  2015-11-24  2094.120117  2070.290039  2084.419922  2089.139893   \n",
       "2  2015-11-25  2093.000000  2086.300049  2089.300049  2088.870117   \n",
       "3  2015-11-26  2093.000000  2086.300049  2089.300049  2088.870117   \n",
       "4  2015-11-27  2093.290039  2084.129883  2088.820068  2090.110107   \n",
       "\n",
       "         Volume    Adj Close  \n",
       "0  3.587980e+09  2086.590088  \n",
       "1  3.884930e+09  2089.139893  \n",
       "2  2.852940e+09  2088.870117  \n",
       "3  2.852940e+09  2088.870117  \n",
       "4  1.466840e+09  2090.110107  "
      ]
     },
     "execution_count": 8,
     "metadata": {},
     "output_type": "execute_result"
    }
   ],
   "source": [
    "import pandas as pd\n",
    "\n",
    "stock_data = pd.read_csv(\"yahoo_stock.csv\")\n",
    "stock_data.head()\n"
   ]
  },
  {
   "cell_type": "markdown",
   "id": "0d1ef4a6-e6fc-46f5-aa4c-3c00fe323b5b",
   "metadata": {},
   "source": [
    "The data contains seven columns: Date, High, Low, Open, Close, Volume, and Adj Close. The index of the DataFrame is set to the Date column to prepare for time series forecasting, and decide what other column(s) to use for the forecast itself. For now, only the Adj Close column, which is the closing price of the S&P 500 index, adjusted for dividends. Based on this decision, we modify the DataFrame to drop the other columns.\n",
    "\n",
    "It is also ensure that the data is sorted by its Date column."
   ]
  },
  {
   "cell_type": "code",
   "execution_count": 9,
   "id": "535ccf02-249d-42ea-8938-995b9804d8bf",
   "metadata": {},
   "outputs": [
    {
     "data": {
      "text/html": [
       "<div>\n",
       "<style scoped>\n",
       "    .dataframe tbody tr th:only-of-type {\n",
       "        vertical-align: middle;\n",
       "    }\n",
       "\n",
       "    .dataframe tbody tr th {\n",
       "        vertical-align: top;\n",
       "    }\n",
       "\n",
       "    .dataframe thead th {\n",
       "        text-align: right;\n",
       "    }\n",
       "</style>\n",
       "<table border=\"1\" class=\"dataframe\">\n",
       "  <thead>\n",
       "    <tr style=\"text-align: right;\">\n",
       "      <th></th>\n",
       "      <th>Adj Close</th>\n",
       "    </tr>\n",
       "    <tr>\n",
       "      <th>Date</th>\n",
       "      <th></th>\n",
       "    </tr>\n",
       "  </thead>\n",
       "  <tbody>\n",
       "    <tr>\n",
       "      <th>2015-11-23</th>\n",
       "      <td>2086.590088</td>\n",
       "    </tr>\n",
       "    <tr>\n",
       "      <th>2015-11-24</th>\n",
       "      <td>2089.139893</td>\n",
       "    </tr>\n",
       "    <tr>\n",
       "      <th>2015-11-25</th>\n",
       "      <td>2088.870117</td>\n",
       "    </tr>\n",
       "    <tr>\n",
       "      <th>2015-11-26</th>\n",
       "      <td>2088.870117</td>\n",
       "    </tr>\n",
       "    <tr>\n",
       "      <th>2015-11-27</th>\n",
       "      <td>2090.110107</td>\n",
       "    </tr>\n",
       "  </tbody>\n",
       "</table>\n",
       "</div>"
      ],
      "text/plain": [
       "              Adj Close\n",
       "Date                   \n",
       "2015-11-23  2086.590088\n",
       "2015-11-24  2089.139893\n",
       "2015-11-25  2088.870117\n",
       "2015-11-26  2088.870117\n",
       "2015-11-27  2090.110107"
      ]
     },
     "execution_count": 9,
     "metadata": {},
     "output_type": "execute_result"
    }
   ],
   "source": [
    "stock_data = stock_data[[\"Date\", \"Adj Close\"]]\n",
    "stock_data = stock_data.sort_values(\"Date\")\n",
    "stock_data = stock_data.set_index(\"Date\")\n",
    "\n",
    "stock_data.head()\n"
   ]
  },
  {
   "cell_type": "code",
   "execution_count": 10,
   "id": "7e1eed0c-2348-454c-a93b-86776c9d96f1",
   "metadata": {},
   "outputs": [
    {
     "name": "stdout",
     "output_type": "stream",
     "text": [
      "<class 'pandas.core.frame.DataFrame'>\n",
      "Index: 1825 entries, 2015-11-23 to 2020-11-20\n",
      "Data columns (total 1 columns):\n",
      " #   Column     Non-Null Count  Dtype  \n",
      "---  ------     --------------  -----  \n",
      " 0   Adj Close  1825 non-null   float64\n",
      "dtypes: float64(1)\n",
      "memory usage: 28.5+ KB\n",
      "\n",
      "________info_________\n",
      " None\n",
      "\n",
      "________Describe_________ \n",
      "          Adj Close\n",
      "count  1825.000000\n",
      "mean   2647.856284\n",
      "std     407.301177\n",
      "min    1829.079956\n",
      "25%    2328.949951\n",
      "50%    2683.340088\n",
      "75%    2917.520020\n",
      "max    3626.909912\n",
      "\n",
      "________Skew________ \n",
      " Adj Close    0.081869\n",
      "dtype: float64\n"
     ]
    }
   ],
   "source": [
    "# investigate the data\n",
    "print (\"\\n________info_________\\n\", stock_data.info())\n",
    "\n",
    "print (\"\\n________Describe_________ \\n\", stock_data.describe())\n",
    "\n",
    "print(\"\\n________Skew________ \\n\", stock_data.skew())"
   ]
  },
  {
   "cell_type": "raw",
   "id": "b5c51082-136e-418a-b422-45c3ce290411",
   "metadata": {},
   "source": [
    "Great! No missing values, and everything seems to be within a reasonable range. The low skew value for Adj Close indicates we don't have any outliers to be concerned about.\n",
    "\n",
    "Next the data will be prepared for modelling by scaling the variable to be forecasted (Adj Close) and splitting the dataset for training, validation, and testing, let's quickly visualize the data."
   ]
  },
  {
   "cell_type": "code",
   "execution_count": 11,
   "id": "189d8641-6290-4ae3-a890-64fe29ce9fb5",
   "metadata": {},
   "outputs": [
    {
     "data": {
      "text/plain": [
       "Text(0, 0.5, 'Adjusted Close')"
      ]
     },
     "execution_count": 11,
     "metadata": {},
     "output_type": "execute_result"
    },
    {
     "data": {
      "image/png": "[encoded data removed]",
      "text/plain": [
       "<Figure size 640x480 with 1 Axes>"
      ]
     },
     "metadata": {},
     "output_type": "display_data"
    }
   ],
   "source": [
    "# Imports\n",
    "import matplotlib.pyplot as plt\n",
    "import matplotlib.dates as mdates\n",
    "\n",
    "# Plot the data\n",
    "plt.plot(stock_data)\n",
    "\n",
    "# Add title and axis labels\n",
    "plt.title('S&P 500 Index')\n",
    "plt.xlabel('Date')\n",
    "plt.xticks(rotation=45)\n",
    "plt.gca().xaxis.set_major_locator(mdates.YearLocator())\n",
    "plt.gcf().autofmt_xdate()\n",
    "plt.ylabel('Adjusted Close')"
   ]
  },
  {
   "cell_type": "markdown",
   "id": "5e505a07-6852-4c8b-8094-0107791cb0d7",
   "metadata": {},
   "source": [
    "The plot is looking great! We can see that we have data from about five years to work with. There are no gaps, and there are some visible dips and spikes.\n",
    "\n",
    "Clearly there is a pattern here (it's not just random noise), and we want to build a model that can predict that pattern. Before we can do that, we need to preprocess the data so we can build and train an RNN model. Let's move on to that data preprocessing."
   ]
  },
  {
   "cell_type": "markdown",
   "id": "1b4d0df3-91b0-417f-9954-8625ed989dcf",
   "metadata": {},
   "source": [
    "## 3. Data Preprocessing"
   ]
  },
  {
   "cell_type": "markdown",
   "id": "9a6aa704-2380-4411-b42b-d9fd8a9054dc",
   "metadata": {},
   "source": [
    "Before we can build and train an RNN model to make forecasts based on this data, we need to complete two preprocessing steps:\n",
    "- Split the data into `train`, `validation`, and `test` sets, using 50% of the data for training and 25% each for validation and testing.\n",
    "- Scale the data to between `0` and `1`, fitting the scaler to the training data and using the fitted scaler to scale all three datasets."
   ]
  },
  {
   "cell_type": "code",
   "execution_count": 12,
   "id": "aabe7eb1-fba3-4494-987e-301338ef3ece",
   "metadata": {},
   "outputs": [],
   "source": [
    "# Import\n",
    "from sklearn.preprocessing import MinMaxScaler\n",
    "\n",
    "# Split into train, validation, and test sets\n",
    "train_size = int(len(stock_data) * 0.5)\n",
    "validation_size = int(len(stock_data) * 0.25)\n",
    "train_df = stock_data.iloc[0:train_size, :]\n",
    "validation_df = stock_data.iloc[train_size:train_size + validation_size, :]\n",
    "test_df = stock_data.iloc[train_size + validation_size:len(stock_data), :]\n",
    "\n",
    "# Fit scaler\n",
    "scaler = MinMaxScaler()\n",
    "scaler.fit(train_df)\n",
    "\n",
    "# Scale data\n",
    "train = pd.DataFrame(scaler.transform(train_df), columns=['Adj Close'], index=train_df.index)\n",
    "validation = pd.DataFrame(scaler.transform(validation_df), columns=['Adj Close'], index=validation_df.index)\n",
    "test = pd.DataFrame(scaler.transform(test_df), columns=['Adj Close'], index=test_df.index)"
   ]
  },
  {
   "cell_type": "code",
   "execution_count": 13,
   "id": "1a2d91cb-5776-4b1f-a825-653a2fdb9e8d",
   "metadata": {},
   "outputs": [
    {
     "name": "stdout",
     "output_type": "stream",
     "text": [
      "            Adj Close\n",
      "Date                 \n",
      "2015-11-23   0.246707\n",
      "2015-11-24   0.249150\n",
      "2015-11-25   0.248891\n",
      "2015-11-26   0.248891\n",
      "2015-11-27   0.250079\n",
      "...               ...\n",
      "2018-05-18   0.846808\n",
      "2018-05-19   0.846808\n",
      "2018-05-20   0.846808\n",
      "2018-05-21   0.866007\n",
      "2018-05-22   0.857797\n",
      "\n",
      "[912 rows x 1 columns]\n"
     ]
    }
   ],
   "source": [
    "print(train)"
   ]
  },
  {
   "cell_type": "code",
   "execution_count": 14,
   "id": "c7b94e3e-480e-4543-bfe4-c6a490b64795",
   "metadata": {},
   "outputs": [
    {
     "name": "stdout",
     "output_type": "stream",
     "text": [
      "            Adj Close\n",
      "Date                 \n",
      "2018-05-23   0.866276\n",
      "2018-05-24   0.860978\n",
      "2018-05-25   0.854818\n",
      "2018-05-26   0.854818\n",
      "2018-05-27   0.854818\n",
      "...               ...\n",
      "2019-08-17   1.015147\n",
      "2019-08-18   1.015147\n",
      "2019-08-19   1.048649\n",
      "2019-08-20   1.026480\n",
      "2019-08-21   1.049397\n",
      "\n",
      "[456 rows x 1 columns]\n"
     ]
    }
   ],
   "source": [
    "print(validation)"
   ]
  },
  {
   "cell_type": "code",
   "execution_count": 15,
   "id": "9d6ee14d-456d-4a9d-9d38-ad1c1093386a",
   "metadata": {},
   "outputs": [
    {
     "name": "stdout",
     "output_type": "stream",
     "text": [
      "            Adj Close\n",
      "Date                 \n",
      "2019-08-22   1.047979\n",
      "2019-08-23   0.975321\n",
      "2019-08-24   0.975321\n",
      "2019-08-25   0.975321\n",
      "2019-08-26   1.005279\n",
      "...               ...\n",
      "2020-11-16   1.722406\n",
      "2020-11-17   1.705755\n",
      "2020-11-18   1.665766\n",
      "2020-11-19   1.679255\n",
      "2020-11-20   1.655946\n",
      "\n",
      "[457 rows x 1 columns]\n"
     ]
    }
   ],
   "source": [
    "print(test)"
   ]
  },
  {
   "cell_type": "markdown",
   "id": "bae94316-88a4-405f-83cf-65b70f1a23b7",
   "metadata": {},
   "source": [
    "We will also want to shape our data into fixed-length time windows and reshape it into NumPy arrays to prepare it for TensorFlow models. We will do this in a way that is repeatable and does not overwrite our `train`, `validation`, and `test` variables so that we have the freedom to modify this window size later."
   ]
  },
  {
   "cell_type": "code",
   "execution_count": null,
   "id": "2d0717ab-b4a6-4a3a-8efc-f19b105cf06b",
   "metadata": {},
   "outputs": [],
   "source": [
    "# Define a helper function to construct windowed datasets\n",
    "import numpy as np\n",
    "def create_dataset(dataset, window_size=1):\n",
    "    data_x, data_y = [], []\n",
    "    for i in range(len(dataset) - window_size - 1):\n",
    "        window = dataset.iloc[i:(i + window_size), 0]\n",
    "        target = dataset.iloc[i + window_size, 0]\n",
    "        data_x.append(window)\n",
    "        data_y.append(target)\n",
    "    return np.array(data_x), np.array(data_y)\n",
    "\n",
    "# Set the desired window size\n",
    "window_size = 10\n",
    "\n",
    "# Construct train, validation, and test datasets\n",
    "X_train, y_train = create_dataset(train, window_size)\n",
    "X_validation, y_validation = create_dataset(validation, window_size)\n",
    "X_test, y_test = create_dataset(test, window_size)\n",
    "\n",
    "# Reshape into NumPy arrays\n",
    "X_train = np.reshape(X_train, (X_train.shape[0], 1, X_train.shape[1]))\n",
    "X_validation = np.reshape(X_validation, (X_validation.shape[0], 1, X_validation.shape[1]))\n",
    "X_test = np.reshape(X_test, (X_test.shape[0], 1, X_test.shape[1]))"
   ]
  },
  {
   "cell_type": "markdown",
   "id": "c9b26144-5509-4abd-9bae-b1e53ea07797",
   "metadata": {},
   "source": [
    "## 4. Build and Train a Basic RNN Model\n",
    "To build a TensorFlow model to make forecasts. Starting with a `SimpleRNN` model."
   ]
  },
  {
   "cell_type": "code",
   "execution_count": 28,
   "id": "88251659-4b3f-44e1-9d10-fcf762f4aed3",
   "metadata": {},
   "outputs": [
    {
     "name": "stdout",
     "output_type": "stream",
     "text": [
      "Model: \"sequential_1\"\n",
      "_________________________________________________________________\n",
      " Layer (type)                Output Shape              Param #   \n",
      "=================================================================\n",
      " simple_rnn_1 (SimpleRNN)    (None, 10)                210       \n",
      "                                                                 \n",
      " dense_2 (Dense)             (None, 10)                110       \n",
      "                                                                 \n",
      " dense_3 (Dense)             (None, 1)                 11        \n",
      "                                                                 \n",
      "=================================================================\n",
      "Total params: 331\n",
      "Trainable params: 331\n",
      "Non-trainable params: 0\n",
      "_________________________________________________________________\n"
     ]
    }
   ],
   "source": [
    "# Imports\n",
    "from tensorflow import keras\n",
    "from tensorflow.keras import layers\n",
    "\n",
    "# Build the model\n",
    "model = tf.keras.Sequential()\n",
    "model.add(tf.keras.layers.SimpleRNN(10, input_shape=(1, window_size), activation='relu'))\n",
    "model.add(tf.keras.layers.Dense(10, activation='relu'))\n",
    "model.add(tf.keras.layers.Dense(1))\n",
    "model.compile(optimizer='adam', loss='mean_squared_error')\n",
    "model.summary()"
   ]
  },
  {
   "cell_type": "code",
   "execution_count": 29,
   "id": "dc5a2b1d-df37-4812-a8d6-14c9d50d218c",
   "metadata": {},
   "outputs": [
    {
     "name": "stdout",
     "output_type": "stream",
     "text": [
      "29/29 [==============================] - 7s 10ms/step - loss: 0.1568\n",
      "14/14 [==============================] - 0s 5ms/step\n",
      "-18.79314043398195\n"
     ]
    }
   ],
   "source": [
    "# train it on our training dataset and evaluate its performance using the validation dataset.\n",
    "# Import\n",
    "from sklearn.metrics import r2_score\n",
    "\n",
    "# Train the model\n",
    "model.fit(X_train, y_train)\n",
    "\n",
    "# Make predictions and evaluate\n",
    "y_pred = model.predict(X_validation)\n",
    "print(r2_score(y_validation, y_pred))"
   ]
  },
  {
   "cell_type": "markdown",
   "id": "65ff2728-0edc-4083-b2e8-f1b1b59ee856",
   "metadata": {},
   "source": [
    "The performance of the model is not good enough. There is a need to improve the model"
   ]
  },
  {
   "cell_type": "markdown",
   "id": "43b3aa95-2a2b-40b7-946f-26d2eff842ef",
   "metadata": {},
   "source": [
    "## 5. Build and Train an LSTM Model"
   ]
  },
  {
   "cell_type": "markdown",
   "id": "46505802-b02d-42cd-a221-3f94d064e4c4",
   "metadata": {},
   "source": [
    "The above steps is repeat an LSTM model and see if performance is improved"
   ]
  },
  {
   "cell_type": "code",
   "execution_count": 32,
   "id": "15838972-0a53-441b-82b3-62b08917f267",
   "metadata": {},
   "outputs": [
    {
     "name": "stdout",
     "output_type": "stream",
     "text": [
      "Model: \"sequential_2\"\n",
      "_________________________________________________________________\n",
      " Layer (type)                Output Shape              Param #   \n",
      "=================================================================\n",
      " lstm (LSTM)                 (None, 10)                840       \n",
      "                                                                 \n",
      " dense_4 (Dense)             (None, 10)                110       \n",
      "                                                                 \n",
      " dense_5 (Dense)             (None, 1)                 11        \n",
      "                                                                 \n",
      "=================================================================\n",
      "Total params: 961\n",
      "Trainable params: 961\n",
      "Non-trainable params: 0\n",
      "_________________________________________________________________\n",
      "29/29 [==============================] - 4s 5ms/step - loss: 0.2539\n",
      "14/14 [==============================] - 0s 3ms/step\n",
      "-49.404064345497076\n"
     ]
    }
   ],
   "source": [
    "# Build the model\n",
    "model = tf.keras.Sequential()\n",
    "model.add(tf.keras.layers.LSTM(10, input_shape=(1, window_size), activation='relu'))\n",
    "model.add(tf.keras.layers.Dense(10, activation='relu'))\n",
    "model.add(tf.keras.layers.Dense(1))\n",
    "model.compile(optimizer='adam', loss='mean_squared_error')\n",
    "model.summary()\n",
    "\n",
    "# Train the model\n",
    "model.fit(X_train, y_train)\n",
    "\n",
    "# Make predictions and evaluate\n",
    "y_pred = model.predict(X_validation)\n",
    "print(r2_score(y_validation, y_pred))"
   ]
  },
  {
   "cell_type": "markdown",
   "id": "4a4f8cf0-7be0-4dbc-b483-a1b74c9a96f2",
   "metadata": {},
   "source": [
    "Performance did not improve. Other techniques is used below to improve the model."
   ]
  },
  {
   "cell_type": "markdown",
   "id": "0b0966e2-d5ac-4345-911a-e47a55828505",
   "metadata": {},
   "source": [
    "## 6. Add a Convolutional Layer"
   ]
  },
  {
   "cell_type": "markdown",
   "id": "2480b442-06fc-4b85-adaf-f025c177d57e",
   "metadata": {},
   "source": [
    "Next, we are going to branch out a bit from the basic RNN or LSTM model and try adding a convolutional layer to see if this improves the model performance."
   ]
  },
  {
   "cell_type": "code",
   "execution_count": 34,
   "id": "1b5e6d16-52c8-4ab9-8c3c-3ca184dadc37",
   "metadata": {},
   "outputs": [
    {
     "name": "stdout",
     "output_type": "stream",
     "text": [
      "Model: \"sequential_3\"\n",
      "_________________________________________________________________\n",
      " Layer (type)                Output Shape              Param #   \n",
      "=================================================================\n",
      " conv1d (Conv1D)             (None, 1, 64)             704       \n",
      "                                                                 \n",
      " max_pooling1d (MaxPooling1D  (None, 1, 64)            0         \n",
      " )                                                               \n",
      "                                                                 \n",
      " lstm_1 (LSTM)               (None, 10)                3000      \n",
      "                                                                 \n",
      " dense_6 (Dense)             (None, 10)                110       \n",
      "                                                                 \n",
      " dense_7 (Dense)             (None, 1)                 11        \n",
      "                                                                 \n",
      "=================================================================\n",
      "Total params: 3,825\n",
      "Trainable params: 3,825\n",
      "Non-trainable params: 0\n",
      "_________________________________________________________________\n",
      "29/29 [==============================] - 6s 6ms/step - loss: 0.2622\n",
      "14/14 [==============================] - 1s 3ms/step\n",
      "-51.16654012847804\n"
     ]
    }
   ],
   "source": [
    "# Build the model\n",
    "model = tf.keras.Sequential()\n",
    "model.add(tf.keras.layers.Conv1D(64, 1, activation=\"relu\", input_shape=(1, window_size)))\n",
    "model.add(tf.keras.layers.MaxPooling1D(1))\n",
    "model.add(tf.keras.layers.LSTM(10, activation='relu'))\n",
    "model.add(tf.keras.layers.Dense(10, activation='relu'))\n",
    "model.add(tf.keras.layers.Dense(1))\n",
    "model.compile(optimizer='adam', loss='mean_squared_error')\n",
    "model.summary()\n",
    "\n",
    "# Train the model\n",
    "model.fit(X_train, y_train)\n",
    "\n",
    "# Make predictions and evaluate\n",
    "y_pred = model.predict(X_validation)\n",
    "print(r2_score(y_validation, y_pred))"
   ]
  },
  {
   "cell_type": "markdown",
   "id": "344ea79d-b4b0-4cc3-ab17-d6717f4aac6f",
   "metadata": {},
   "source": [
    "These are still pretty terrible results. Let's go further and try modifying other model parameters to fully optimize this model, at which point we may or may not keep the convolutional layer."
   ]
  },
  {
   "cell_type": "markdown",
   "id": "6b404ee2-4914-4998-bfab-6c5bb9a555c3",
   "metadata": {},
   "source": [
    "## 7. Optimize the Model"
   ]
  },
  {
   "cell_type": "raw",
   "id": "2d924134-2115-4c45-b057-aff0a3f8046a",
   "metadata": {},
   "source": [
    "Now we can go further to optimize this model by adding layers, changing the number of nodes in each layer, increasing the number of training epochs, and modifying the window size.\n"
   ]
  },
  {
   "cell_type": "code",
   "execution_count": 35,
   "id": "7be15122-20d6-47b2-9819-45e787db392c",
   "metadata": {},
   "outputs": [
    {
     "name": "stdout",
     "output_type": "stream",
     "text": [
      "Model: \"sequential_4\"\n",
      "_________________________________________________________________\n",
      " Layer (type)                Output Shape              Param #   \n",
      "=================================================================\n",
      " conv1d_1 (Conv1D)           (None, 1, 128)            3328      \n",
      "                                                                 \n",
      " max_pooling1d_1 (MaxPooling  (None, 1, 128)           0         \n",
      " 1D)                                                             \n",
      "                                                                 \n",
      " lstm_2 (LSTM)               (None, 64)                49408     \n",
      "                                                                 \n",
      " dense_8 (Dense)             (None, 32)                2080      \n",
      "                                                                 \n",
      " dense_9 (Dense)             (None, 16)                528       \n",
      "                                                                 \n",
      " dense_10 (Dense)            (None, 1)                 17        \n",
      "                                                                 \n",
      "=================================================================\n",
      "Total params: 55,361\n",
      "Trainable params: 55,361\n",
      "Non-trainable params: 0\n",
      "_________________________________________________________________\n",
      "Epoch 1/35\n",
      "28/28 [==============================] - 6s 8ms/step - loss: 0.1369\n",
      "Epoch 2/35\n",
      "28/28 [==============================] - 0s 6ms/step - loss: 0.0068\n",
      "Epoch 3/35\n",
      "28/28 [==============================] - 0s 7ms/step - loss: 0.0022\n",
      "Epoch 4/35\n",
      "28/28 [==============================] - 0s 9ms/step - loss: 0.0018\n",
      "Epoch 5/35\n",
      "28/28 [==============================] - 0s 9ms/step - loss: 0.0016\n",
      "Epoch 6/35\n",
      "28/28 [==============================] - 0s 8ms/step - loss: 0.0012\n",
      "Epoch 7/35\n",
      "28/28 [==============================] - 0s 7ms/step - loss: 8.7605e-04\n",
      "Epoch 8/35\n",
      "28/28 [==============================] - 0s 7ms/step - loss: 6.6760e-04\n",
      "Epoch 9/35\n",
      "28/28 [==============================] - 0s 7ms/step - loss: 6.3464e-04\n",
      "Epoch 10/35\n",
      "28/28 [==============================] - 0s 7ms/step - loss: 5.5654e-04\n",
      "Epoch 11/35\n",
      "28/28 [==============================] - 0s 7ms/step - loss: 4.7074e-04\n",
      "Epoch 12/35\n",
      "28/28 [==============================] - 0s 8ms/step - loss: 4.5695e-04\n",
      "Epoch 13/35\n",
      "28/28 [==============================] - 0s 8ms/step - loss: 4.0371e-04\n",
      "Epoch 14/35\n",
      "28/28 [==============================] - 0s 7ms/step - loss: 3.6959e-04\n",
      "Epoch 15/35\n",
      "28/28 [==============================] - 0s 10ms/step - loss: 3.8000e-04\n",
      "Epoch 16/35\n",
      "28/28 [==============================] - 0s 8ms/step - loss: 3.9740e-04\n",
      "Epoch 17/35\n",
      "28/28 [==============================] - 0s 8ms/step - loss: 3.8549e-04\n",
      "Epoch 18/35\n",
      "28/28 [==============================] - 0s 8ms/step - loss: 4.0827e-04\n",
      "Epoch 19/35\n",
      "28/28 [==============================] - 0s 8ms/step - loss: 3.4212e-04\n",
      "Epoch 20/35\n",
      "28/28 [==============================] - 0s 8ms/step - loss: 3.8805e-04\n",
      "Epoch 21/35\n",
      "28/28 [==============================] - 0s 8ms/step - loss: 3.3067e-04\n",
      "Epoch 22/35\n",
      "28/28 [==============================] - 0s 8ms/step - loss: 3.3592e-04\n",
      "Epoch 23/35\n",
      "28/28 [==============================] - 0s 7ms/step - loss: 3.6807e-04\n",
      "Epoch 24/35\n",
      "28/28 [==============================] - 0s 6ms/step - loss: 4.1369e-04\n",
      "Epoch 25/35\n",
      "28/28 [==============================] - 0s 6ms/step - loss: 3.6049e-04\n",
      "Epoch 26/35\n",
      "28/28 [==============================] - 0s 6ms/step - loss: 3.0488e-04\n",
      "Epoch 27/35\n",
      "28/28 [==============================] - 0s 12ms/step - loss: 2.7628e-04\n",
      "Epoch 28/35\n",
      "28/28 [==============================] - 0s 13ms/step - loss: 3.0813e-04\n",
      "Epoch 29/35\n",
      "28/28 [==============================] - 0s 6ms/step - loss: 3.1835e-04\n",
      "Epoch 30/35\n",
      "28/28 [==============================] - 0s 7ms/step - loss: 3.1632e-04\n",
      "Epoch 31/35\n",
      "28/28 [==============================] - 0s 6ms/step - loss: 3.0300e-04\n",
      "Epoch 32/35\n",
      "28/28 [==============================] - 0s 6ms/step - loss: 2.8039e-04\n",
      "Epoch 33/35\n",
      "28/28 [==============================] - 0s 7ms/step - loss: 3.8179e-04\n",
      "Epoch 34/35\n",
      "28/28 [==============================] - 0s 7ms/step - loss: 2.7625e-04\n",
      "Epoch 35/35\n",
      "28/28 [==============================] - 0s 6ms/step - loss: 3.5210e-04\n",
      "14/14 [==============================] - 0s 3ms/step\n",
      "\n",
      "R-Squared value on validation set: 0.942665099828231\n"
     ]
    }
   ],
   "source": [
    "# Set the desired window size\n",
    "window_size = 25\n",
    "\n",
    "# Construct train, validation, and test datasets\n",
    "X_train, y_train = create_dataset(train, window_size)\n",
    "X_validation, y_validation = create_dataset(validation, window_size)\n",
    "X_test, y_test = create_dataset(test, window_size)\n",
    "\n",
    "# Reshape into NumPy arrays\n",
    "X_train = np.reshape(X_train, (X_train.shape[0], 1, X_train.shape[1]))\n",
    "X_validation = np.reshape(X_validation, (X_validation.shape[0], 1, X_validation.shape[1]))\n",
    "X_test = np.reshape(X_test, (X_test.shape[0], 1, X_test.shape[1]))\n",
    "\n",
    "# Build the model\n",
    "model = tf.keras.Sequential()\n",
    "model.add(tf.keras.layers.Conv1D(128, 1, activation=\"relu\", input_shape=(1, window_size)))\n",
    "model.add(tf.keras.layers.MaxPooling1D(1))\n",
    "model.add(tf.keras.layers.LSTM(64, activation='relu'))\n",
    "model.add(tf.keras.layers.Dense(32, activation='relu'))\n",
    "model.add(tf.keras.layers.Dense(16, activation='relu'))\n",
    "model.add(tf.keras.layers.Dense(1))\n",
    "model.compile(optimizer='adam', loss='mean_squared_error')\n",
    "model.summary()\n",
    "\n",
    "# Train the model\n",
    "model.fit(X_train, y_train, epochs=35)\n",
    "\n",
    "# Make predictions and evaluate\n",
    "y_pred = model.predict(X_validation)\n",
    "print(f\"\\nR-Squared value on validation set: {r2_score(y_validation, y_pred)}\")"
   ]
  },
  {
   "cell_type": "markdown",
   "id": "711b4657-9660-4927-97dd-eefd962cc778",
   "metadata": {},
   "source": [
    "## 8. Evaluate Model Performance"
   ]
  },
  {
   "cell_type": "markdown",
   "id": "a60eda9c-cefd-4f75-95a6-7c0950a5f9c3",
   "metadata": {},
   "source": [
    "Finally! We've settled on a model that we can be satisfied with, so let's use this model to make predictions on the testing set and compute our final R-Squared. While we're at it, since we'll need them for plotting, let's make predictions on all three sets: training, validation, and testing."
   ]
  },
  {
   "cell_type": "code",
   "execution_count": 36,
   "id": "a9a2496e-d99c-4b32-8380-6cb55ac0d83d",
   "metadata": {},
   "outputs": [
    {
     "name": "stdout",
     "output_type": "stream",
     "text": [
      "28/28 [==============================] - 0s 5ms/step\n",
      "14/14 [==============================] - 0s 4ms/step\n",
      "14/14 [==============================] - 0s 4ms/step\n",
      "0.9950820284118973  --> Training Set\n",
      "0.942665099828231  --> Validation Set\n",
      "0.9385444527134151  --> Test Set\n"
     ]
    }
   ],
   "source": [
    "# Make predictions on all three sets\n",
    "train_pred = model.predict(X_train)\n",
    "validation_pred = model.predict(X_validation)\n",
    "test_pred = model.predict(X_test)\n",
    "\n",
    "print(r2_score(y_train, train_pred), \" --> Training Set\")\n",
    "print(r2_score(y_validation, validation_pred), \" --> Validation Set\")\n",
    "print(r2_score(y_test, test_pred), \" --> Test Set\")"
   ]
  },
  {
   "cell_type": "markdown",
   "id": "3324b7e7-b4ba-4392-82fb-4f9b48bcc2e8",
   "metadata": {},
   "source": [
    "Excellent! The R-Squared value from validation seems to have held up in testing, which is a great sign. Now it's time to visualize this performance. First, we'll need to undo the scaling and windowing preprocessing we've done."
   ]
  },
  {
   "cell_type": "code",
   "execution_count": 38,
   "id": "f446d62a-0d09-4d13-a8a0-4e2628e0c2b4",
   "metadata": {},
   "outputs": [],
   "source": [
    "# Un-scale the predictions\n",
    "train_pred = scaler.inverse_transform(train_pred)\n",
    "validation_pred = scaler.inverse_transform(validation_pred)\n",
    "test_pred = scaler.inverse_transform(test_pred)\n",
    "\n",
    "# Un-window the training predictions\n",
    "plot_train_pred = np.empty((len(stock_data), 1))\n",
    "plot_train_pred[:] = np.nan\n",
    "plot_train_pred[window_size:len(train_pred) + window_size, :] = train_pred\n",
    "\n",
    "# Un-window the validation predictions\n",
    "plot_validation_pred = np.empty((len(stock_data), 1))\n",
    "plot_validation_pred[:] = np.nan\n",
    "plot_validation_pred[len(train_pred) + (window_size * 2) + 1:len(train_pred) + len(validation_pred) + (window_size * 2) + 1, :] = validation_pred\n",
    "\n",
    "# Un-window the test predictions\n",
    "plot_test_pred = np.empty((len(stock_data), 1))\n",
    "plot_test_pred[:] = np.nan\n",
    "plot_test_pred[len(train_pred) + len(validation_pred) + (window_size * 3) + 2:len(stock_data) - 1, :] = test_pred"
   ]
  },
  {
   "cell_type": "markdown",
   "id": "0b081181-05a4-4594-86ab-705359f63838",
   "metadata": {},
   "source": [
    "Finally, let's plot the un-scaled and un-windowed data on top of the original `stock_data` dataset."
   ]
  },
  {
   "cell_type": "code",
   "execution_count": 40,
   "id": "3dfe7f56-a375-4e0f-97d2-abe7a6350ce4",
   "metadata": {},
   "outputs": [
    {
     "data": {
      "image/png": "[encoded data removed]",
      "text/plain": [
       "<Figure size 640x480 with 1 Axes>"
      ]
     },
     "metadata": {},
     "output_type": "display_data"
    }
   ],
   "source": [
    "# Plot the original data\n",
    "plt.plot(stock_data, label=\"Original Data\")\n",
    "\n",
    "# Plot the predictions\n",
    "plt.plot(plot_train_pred, label=\"Training Set Predictions\")\n",
    "plt.plot(plot_validation_pred, label=\"Validation Set Predictions\")\n",
    "plt.plot(plot_test_pred, label=\"Test Set Predictions\")\n",
    "\n",
    "# Add title, axis labels, and a legend\n",
    "plt.title('S&P 500 Index Forecast')\n",
    "plt.xlabel('Date')\n",
    "plt.xticks(rotation=45)\n",
    "plt.gca().xaxis.set_major_locator(mdates.YearLocator())\n",
    "plt.gcf().autofmt_xdate()\n",
    "plt.ylabel('Adjusted Close')\n",
    "plt.legend()\n",
    "plt.show()"
   ]
  },
  {
   "cell_type": "markdown",
   "id": "588b2413-b0bf-4ac1-97e2-529ac103f5af",
   "metadata": {},
   "source": [
    "The visualization looks as great as the R-Squared suggested it might. The real test, of course, would be to make some predictions for the future and do some trades (or pretend to do some trades — \"paper trading\" as we call it), then see if we can make any money. Investment advice is way outside the scope of this course, and the stock market has a way of being a \"harsh teacher,\" so please be cautious and remember that this project was only meant to be fun and educational! If successfully predicting the market trends was \"this easy,\" everyone would do it."
   ]
  },
  {
   "cell_type": "code",
   "execution_count": null,
   "id": "cfac55bf-cd95-4ee4-a5d2-0b581cf1c55b",
   "metadata": {},
   "outputs": [],
   "source": []
  }
 ],
 "metadata": {
  "kernelspec": {
   "display_name": "Python 3 (ipykernel)",
   "language": "python",
   "name": "python3"
  },
  "language_info": {
   "codemirror_mode": {
    "name": "ipython",
    "version": 3
   },
   "file_extension": ".py",
   "mimetype": "text/x-python",
   "name": "python",
   "nbconvert_exporter": "python",
   "pygments_lexer": "ipython3",
   "version": "3.10.9"
  }
 },
 "nbformat": 4,
 "nbformat_minor": 5
}
